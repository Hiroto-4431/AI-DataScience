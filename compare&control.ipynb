{
  "nbformat": 4,
  "nbformat_minor": 0,
  "metadata": {
    "colab": {
      "provenance": [],
      "toc_visible": true,
      "authorship_tag": "ABX9TyNiO1tH+khoFNa9wpSeOprl",
      "include_colab_link": true
    },
    "kernelspec": {
      "name": "python3",
      "display_name": "Python 3"
    },
    "language_info": {
      "name": "python"
    }
  },
  "cells": [
    {
      "cell_type": "markdown",
      "metadata": {
        "id": "view-in-github",
        "colab_type": "text"
      },
      "source": [
        "<a href=\"https://colab.research.google.com/github/Hiroto-4431/AI-DataScience/blob/main/compare%26control.ipynb\" target=\"_parent\"><img src=\"https://colab.research.google.com/assets/colab-badge.svg\" alt=\"Open In Colab\"/></a>"
      ]
    },
    {
      "cell_type": "markdown",
      "source": [],
      "metadata": {
        "id": "zKSkuY2FOgiL"
      }
    },
    {
      "cell_type": "markdown",
      "source": [
        "# 概要\n",
        "- 比較演算子\n",
        "- 制御構文"
      ],
      "metadata": {
        "id": "seCxz1MnOgjk"
      }
    },
    {
      "cell_type": "markdown",
      "source": [
        "## 比較演算子"
      ],
      "metadata": {
        "id": "xB66uOCBOaCO"
      }
    },
    {
      "cell_type": "code",
      "source": [
        "1 < 2"
      ],
      "metadata": {
        "colab": {
          "base_uri": "https://localhost:8080/"
        },
        "id": "J7Seet9dOk3y",
        "outputId": "3fff6932-fbf2-4009-cc76-d5e5f5ab6a29"
      },
      "execution_count": 1,
      "outputs": [
        {
          "output_type": "execute_result",
          "data": {
            "text/plain": [
              "True"
            ]
          },
          "metadata": {},
          "execution_count": 1
        }
      ]
    },
    {
      "cell_type": "code",
      "source": [
        "1 > 2"
      ],
      "metadata": {
        "colab": {
          "base_uri": "https://localhost:8080/"
        },
        "id": "p8jomRBCOtL_",
        "outputId": "d7eea1af-f051-4eb1-c979-49284222392a"
      },
      "execution_count": 2,
      "outputs": [
        {
          "output_type": "execute_result",
          "data": {
            "text/plain": [
              "False"
            ]
          },
          "metadata": {},
          "execution_count": 2
        }
      ]
    },
    {
      "cell_type": "code",
      "source": [
        "# データ型の確認\n",
        "type(1 > 2)"
      ],
      "metadata": {
        "colab": {
          "base_uri": "https://localhost:8080/"
        },
        "id": "a5MqkQYEOuXL",
        "outputId": "83f364bb-388a-4459-f6a7-1298bbf810b7"
      },
      "execution_count": 3,
      "outputs": [
        {
          "output_type": "execute_result",
          "data": {
            "text/plain": [
              "bool"
            ]
          },
          "metadata": {},
          "execution_count": 3
        }
      ]
    },
    {
      "cell_type": "code",
      "source": [
        "# 変数\n",
        "a = 1\n",
        "b = 2\n",
        "\n",
        "# 比較\n",
        "a < b"
      ],
      "metadata": {
        "colab": {
          "base_uri": "https://localhost:8080/"
        },
        "id": "bx3RfPEaOzIZ",
        "outputId": "738454a6-0240-41f6-86cc-22ca4e27eb80"
      },
      "execution_count": 4,
      "outputs": [
        {
          "output_type": "execute_result",
          "data": {
            "text/plain": [
              "True"
            ]
          },
          "metadata": {},
          "execution_count": 4
        }
      ]
    },
    {
      "cell_type": "code",
      "source": [
        "# 等号\n",
        "1 == 1"
      ],
      "metadata": {
        "colab": {
          "base_uri": "https://localhost:8080/"
        },
        "id": "ocFFr31BO7P3",
        "outputId": "096203b0-8861-4016-f79c-18df64d2ed39"
      },
      "execution_count": 5,
      "outputs": [
        {
          "output_type": "execute_result",
          "data": {
            "text/plain": [
              "True"
            ]
          },
          "metadata": {},
          "execution_count": 5
        }
      ]
    },
    {
      "cell_type": "code",
      "source": [
        "1 == 2"
      ],
      "metadata": {
        "colab": {
          "base_uri": "https://localhost:8080/"
        },
        "id": "tJk82-gGPA_S",
        "outputId": "19a7f16e-8cc9-4397-a0d3-1d84e2685df2"
      },
      "execution_count": 6,
      "outputs": [
        {
          "output_type": "execute_result",
          "data": {
            "text/plain": [
              "False"
            ]
          },
          "metadata": {},
          "execution_count": 6
        }
      ]
    },
    {
      "cell_type": "code",
      "source": [
        "# 等しくない"
      ],
      "metadata": {
        "id": "gLzCcnfSPDE5"
      },
      "execution_count": 7,
      "outputs": []
    },
    {
      "cell_type": "code",
      "source": [
        "1 != 1"
      ],
      "metadata": {
        "colab": {
          "base_uri": "https://localhost:8080/"
        },
        "id": "vZj-oWl7PE5N",
        "outputId": "1b825906-4e08-4c58-b973-3518d5e7d570"
      },
      "execution_count": 8,
      "outputs": [
        {
          "output_type": "execute_result",
          "data": {
            "text/plain": [
              "False"
            ]
          },
          "metadata": {},
          "execution_count": 8
        }
      ]
    },
    {
      "cell_type": "code",
      "source": [
        "1 != 2"
      ],
      "metadata": {
        "colab": {
          "base_uri": "https://localhost:8080/"
        },
        "id": "RhRvQe47PIaB",
        "outputId": "0815f17a-25cb-460d-aa19-dbd09fdd13b5"
      },
      "execution_count": 9,
      "outputs": [
        {
          "output_type": "execute_result",
          "data": {
            "text/plain": [
              "True"
            ]
          },
          "metadata": {},
          "execution_count": 9
        }
      ]
    },
    {
      "cell_type": "markdown",
      "source": [
        "## 制御構文"
      ],
      "metadata": {
        "id": "TJlcm7UaPJ4X"
      }
    },
    {
      "cell_type": "markdown",
      "source": [
        "### for文"
      ],
      "metadata": {
        "id": "nhuYKfaiPOMU"
      }
    },
    {
      "cell_type": "code",
      "source": [
        "# リストを定義\n",
        "names = ['太郎', '花子', '一郎']"
      ],
      "metadata": {
        "id": "i4yFH2GgPT5g"
      },
      "execution_count": 10,
      "outputs": []
    },
    {
      "cell_type": "code",
      "source": [
        "# for文\n",
        "for name in names: # イテラブルオブジェクト\n",
        "  print(name)"
      ],
      "metadata": {
        "colab": {
          "base_uri": "https://localhost:8080/"
        },
        "id": "CbuOTej1Pagn",
        "outputId": "9f47d732-563c-4ff4-faf6-9e84fa3b020e"
      },
      "execution_count": 11,
      "outputs": [
        {
          "output_type": "stream",
          "name": "stdout",
          "text": [
            "太郎\n",
            "花子\n",
            "一郎\n"
          ]
        }
      ]
    },
    {
      "cell_type": "markdown",
      "source": [
        "### if文"
      ],
      "metadata": {
        "id": "lS29UDbsPzDo"
      }
    },
    {
      "cell_type": "code",
      "source": [
        "# 到着時間を設定\n",
        "time = 8\n",
        "\n",
        "# 条件分岐を設定\n",
        "if time < 9: # 比較演算子\n",
        "  print('「1限に間に合った」')\n",
        "else:\n",
        "  print('「1限に間に合わなかった」')"
      ],
      "metadata": {
        "colab": {
          "base_uri": "https://localhost:8080/"
        },
        "id": "XAC9A32tPmbu",
        "outputId": "b5a3d9d2-54c6-444d-b283-f0c502cc833e"
      },
      "execution_count": 13,
      "outputs": [
        {
          "output_type": "stream",
          "name": "stdout",
          "text": [
            "「1限に間に合った」\n"
          ]
        }
      ]
    },
    {
      "cell_type": "code",
      "source": [],
      "metadata": {
        "id": "2MBu855kQOvf"
      },
      "execution_count": null,
      "outputs": []
    }
  ]
}