{
  "nbformat": 4,
  "nbformat_minor": 0,
  "metadata": {
    "colab": {
      "provenance": [],
      "toc_visible": true,
      "authorship_tag": "ABX9TyNINbZplm/RDVsKW+9KsOIS",
      "include_colab_link": true
    },
    "kernelspec": {
      "name": "python3",
      "display_name": "Python 3"
    },
    "language_info": {
      "name": "python"
    }
  },
  "cells": [
    {
      "cell_type": "markdown",
      "metadata": {
        "id": "view-in-github",
        "colab_type": "text"
      },
      "source": [
        "<a href=\"https://colab.research.google.com/github/Hiroto-4431/AI-DataScience/blob/main/class.ipynb\" target=\"_parent\"><img src=\"https://colab.research.google.com/assets/colab-badge.svg\" alt=\"Open In Colab\"/></a>"
      ]
    },
    {
      "cell_type": "markdown",
      "source": [
        "# 概要\n",
        "- 関数内で使用する変数を定義する関数\n",
        "- 名前を表示する関数\n",
        "- 体重を表示する関数\n",
        "- 身長を表示する関数"
      ],
      "metadata": {
        "id": "usl7Q0mXVqOr"
      }
    },
    {
      "cell_type": "code",
      "execution_count": 11,
      "metadata": {
        "id": "qJZFA0qyVSpT"
      },
      "outputs": [],
      "source": [
        "class Human:\n",
        "  # 関数内で使用する変数\n",
        "  def __init__(self): # 特殊メソッド → インスタンス化したときに自動で実行\n",
        "    self.name = '田中太郎'\n",
        "    self.weight = '50'\n",
        "    self.height = '170'\n",
        "\n",
        "  # 名前を表示する関数\n",
        "  def print_name(self):\n",
        "    print('私の名前は' + self.name + 'です。')\n",
        "\n",
        "  # 体重を表示する関数\n",
        "  def print_weight(self):\n",
        "    print('私の体重は' + self.weight + 'kgです。')\n",
        "\n",
        "  # 身長を表示する関数\n",
        "  def print_height(self):\n",
        "    print('私の身長は' + self.height + 'cmです。')"
      ]
    },
    {
      "cell_type": "code",
      "source": [
        "# 実体化（インスタンス化）\n",
        "human = Human()"
      ],
      "metadata": {
        "id": "JGl0j8EhV4M1"
      },
      "execution_count": 12,
      "outputs": []
    },
    {
      "cell_type": "code",
      "source": [
        "human # オブジェクト"
      ],
      "metadata": {
        "colab": {
          "base_uri": "https://localhost:8080/"
        },
        "id": "sYpiNVa0WxrF",
        "outputId": "258f581b-feff-403b-b09c-5fa0ebc3177c"
      },
      "execution_count": 13,
      "outputs": [
        {
          "output_type": "execute_result",
          "data": {
            "text/plain": [
              "<__main__.Human at 0x7abc67f78d00>"
            ]
          },
          "metadata": {},
          "execution_count": 13
        }
      ]
    },
    {
      "cell_type": "code",
      "source": [
        "# 変数\n",
        "human.name"
      ],
      "metadata": {
        "colab": {
          "base_uri": "https://localhost:8080/",
          "height": 35
        },
        "id": "_ubUjywdW0-1",
        "outputId": "ee86d1f0-0911-491e-e41f-97e7bd4bf166"
      },
      "execution_count": 14,
      "outputs": [
        {
          "output_type": "execute_result",
          "data": {
            "text/plain": [
              "'田中太郎'"
            ],
            "application/vnd.google.colaboratory.intrinsic+json": {
              "type": "string"
            }
          },
          "metadata": {},
          "execution_count": 14
        }
      ]
    },
    {
      "cell_type": "code",
      "source": [
        "# 体重\n",
        "human.weight"
      ],
      "metadata": {
        "colab": {
          "base_uri": "https://localhost:8080/",
          "height": 35
        },
        "id": "asVyuHb7W3u2",
        "outputId": "3e24d70d-d0d8-404e-fee0-45fdba0d890e"
      },
      "execution_count": 15,
      "outputs": [
        {
          "output_type": "execute_result",
          "data": {
            "text/plain": [
              "'50'"
            ],
            "application/vnd.google.colaboratory.intrinsic+json": {
              "type": "string"
            }
          },
          "metadata": {},
          "execution_count": 15
        }
      ]
    },
    {
      "cell_type": "code",
      "source": [
        "# 身長\n",
        "human.height"
      ],
      "metadata": {
        "colab": {
          "base_uri": "https://localhost:8080/",
          "height": 35
        },
        "id": "Bx7mmDHUXFvI",
        "outputId": "889f64fc-6141-44de-d1a9-9f16f41b4bb0"
      },
      "execution_count": 16,
      "outputs": [
        {
          "output_type": "execute_result",
          "data": {
            "text/plain": [
              "'170'"
            ],
            "application/vnd.google.colaboratory.intrinsic+json": {
              "type": "string"
            }
          },
          "metadata": {},
          "execution_count": 16
        }
      ]
    },
    {
      "cell_type": "code",
      "source": [
        "# 名前を表示する関数\n",
        "human.print_name()"
      ],
      "metadata": {
        "colab": {
          "base_uri": "https://localhost:8080/"
        },
        "id": "IeSV9JRyXHQV",
        "outputId": "a00243fa-4a7d-4510-e41c-157a67333029"
      },
      "execution_count": 17,
      "outputs": [
        {
          "output_type": "stream",
          "name": "stdout",
          "text": [
            "私の名前は田中太郎です。\n"
          ]
        }
      ]
    },
    {
      "cell_type": "code",
      "source": [
        "# 体重を表示する関数\n",
        "human.print_weight()"
      ],
      "metadata": {
        "colab": {
          "base_uri": "https://localhost:8080/"
        },
        "id": "ejTCDpHAX3BV",
        "outputId": "a259fcf8-0ee4-428d-fb83-7b69c30500d1"
      },
      "execution_count": 18,
      "outputs": [
        {
          "output_type": "stream",
          "name": "stdout",
          "text": [
            "私の体重は50kgです。\n"
          ]
        }
      ]
    },
    {
      "cell_type": "code",
      "source": [
        "# 身長を表示する関数\n",
        "human.print_height()"
      ],
      "metadata": {
        "colab": {
          "base_uri": "https://localhost:8080/"
        },
        "id": "YJn-5SDVX5qp",
        "outputId": "a6761bc9-1a45-40ef-ef07-8e0b86378e78"
      },
      "execution_count": 20,
      "outputs": [
        {
          "output_type": "stream",
          "name": "stdout",
          "text": [
            "私の身長は170cmです。\n"
          ]
        }
      ]
    },
    {
      "cell_type": "code",
      "source": [
        "class Human:\n",
        "  # 関数内で使用する変数\n",
        "  def __init__(self, name, weight, height): # 特殊メソッド → インスタンス化したときに自動で実行\n",
        "    self.name = name\n",
        "    self.weight = weight\n",
        "    self.height = height\n",
        "\n",
        "  # 名前を表示する関数\n",
        "  def print_name(self):\n",
        "    print('私の名前は' + self.name + 'です。')\n",
        "\n",
        "  # 体重を表示する関数\n",
        "  def print_weight(self):\n",
        "    print('私の体重は' + self.weight + 'kgです。')\n",
        "\n",
        "  # 身長を表示する関数\n",
        "  def print_height(self):\n",
        "    print('私の身長は' + self.height + 'cmです。')"
      ],
      "metadata": {
        "id": "MQNEkAAiYCE9"
      },
      "execution_count": 23,
      "outputs": []
    },
    {
      "cell_type": "code",
      "source": [
        "# インスタンス化\n",
        "human_2 = Human(name='田中太郎', weight='50', height='170')"
      ],
      "metadata": {
        "id": "9Clsy6-uYREr"
      },
      "execution_count": 25,
      "outputs": []
    },
    {
      "cell_type": "code",
      "source": [
        "human_2.name"
      ],
      "metadata": {
        "colab": {
          "base_uri": "https://localhost:8080/",
          "height": 35
        },
        "id": "4yJ6po_HYd7K",
        "outputId": "46d728b6-c740-48e1-f30b-0fc20be3ff4b"
      },
      "execution_count": 26,
      "outputs": [
        {
          "output_type": "execute_result",
          "data": {
            "text/plain": [
              "'田中太郎'"
            ],
            "application/vnd.google.colaboratory.intrinsic+json": {
              "type": "string"
            }
          },
          "metadata": {},
          "execution_count": 26
        }
      ]
    },
    {
      "cell_type": "code",
      "source": [
        "# メソッド\n",
        "human_2.print_name()"
      ],
      "metadata": {
        "colab": {
          "base_uri": "https://localhost:8080/"
        },
        "id": "TKZwrRpmYuzb",
        "outputId": "2167ada9-1e4f-46a0-8061-bd92ff2620f8"
      },
      "execution_count": 27,
      "outputs": [
        {
          "output_type": "stream",
          "name": "stdout",
          "text": [
            "私の名前は田中太郎です。\n"
          ]
        }
      ]
    },
    {
      "cell_type": "code",
      "source": [
        "human_2.print_weight()"
      ],
      "metadata": {
        "colab": {
          "base_uri": "https://localhost:8080/"
        },
        "id": "Sw3XysWQY3KL",
        "outputId": "36e0432b-72e1-4a6a-b42e-7bac0cf0a85d"
      },
      "execution_count": 28,
      "outputs": [
        {
          "output_type": "stream",
          "name": "stdout",
          "text": [
            "私の体重は50kgです。\n"
          ]
        }
      ]
    },
    {
      "cell_type": "code",
      "source": [
        "human_2.print_height()"
      ],
      "metadata": {
        "colab": {
          "base_uri": "https://localhost:8080/"
        },
        "id": "SBJ2jxb4Y-Ok",
        "outputId": "66dea0db-d3a9-4375-d46e-48bfbebbe118"
      },
      "execution_count": 29,
      "outputs": [
        {
          "output_type": "stream",
          "name": "stdout",
          "text": [
            "私の身長は170cmです。\n"
          ]
        }
      ]
    },
    {
      "cell_type": "code",
      "source": [
        "class Human:\n",
        "  # 関数内で使用する変数\n",
        "  def __init__(self, name, weight, height): # 特殊メソッド → インスタンス化したときに自動で実行\n",
        "    self.name = name\n",
        "    self.weight = weight\n",
        "    self.height = height\n",
        "\n",
        "  # 名前を表示する関数\n",
        "  def print_name(self, brother):\n",
        "    print('私の名前は' + self.name + 'です。私の兄の名前は' + brother + 'です。')\n",
        "\n",
        "  # 体重を表示する関数\n",
        "  def print_weight(self):\n",
        "    print('私の体重は' + self.weight + 'kgです。')\n",
        "\n",
        "  # 身長を表示する関数\n",
        "  def print_height(self):\n",
        "    print('私の身長は' + self.height + 'cmです。')"
      ],
      "metadata": {
        "id": "oVYsUQpQZANb"
      },
      "execution_count": 30,
      "outputs": []
    },
    {
      "cell_type": "code",
      "source": [
        "human_3 = Human(name='田中太郎', weight='50', height='170')"
      ],
      "metadata": {
        "id": "PXchF8XwZMpL"
      },
      "execution_count": 31,
      "outputs": []
    },
    {
      "cell_type": "code",
      "source": [
        "human_3.print_name(brother='田中一郎')"
      ],
      "metadata": {
        "colab": {
          "base_uri": "https://localhost:8080/"
        },
        "id": "HQpfpCDmZTWO",
        "outputId": "9edf0e29-b5dc-4e47-864c-3fef774962b0"
      },
      "execution_count": 32,
      "outputs": [
        {
          "output_type": "stream",
          "name": "stdout",
          "text": [
            "私の名前は田中太郎です。私の兄の名前は田中一郎です。\n"
          ]
        }
      ]
    },
    {
      "cell_type": "code",
      "source": [],
      "metadata": {
        "id": "ggOmfwp4ZcUf"
      },
      "execution_count": null,
      "outputs": []
    }
  ]
}