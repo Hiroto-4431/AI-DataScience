{
  "nbformat": 4,
  "nbformat_minor": 0,
  "metadata": {
    "colab": {
      "provenance": [],
      "toc_visible": true,
      "authorship_tag": "ABX9TyODSu4GCeih7fJE/XG74etc",
      "include_colab_link": true
    },
    "kernelspec": {
      "name": "python3",
      "display_name": "Python 3"
    },
    "language_info": {
      "name": "python"
    }
  },
  "cells": [
    {
      "cell_type": "markdown",
      "metadata": {
        "id": "view-in-github",
        "colab_type": "text"
      },
      "source": [
        "<a href=\"https://colab.research.google.com/github/Hiroto-4431/AI-DataScience/blob/main/function.ipynb\" target=\"_parent\"><img src=\"https://colab.research.google.com/assets/colab-badge.svg\" alt=\"Open In Colab\"/></a>"
      ]
    },
    {
      "cell_type": "markdown",
      "source": [
        "# 概要\n",
        "- 関数\n",
        "  - 組み込み関数\n",
        "  - 関数を自作する"
      ],
      "metadata": {
        "id": "1lgF8rcBRPIk"
      }
    },
    {
      "cell_type": "markdown",
      "source": [
        "## 組み込み関数"
      ],
      "metadata": {
        "id": "ucWDzbUlRDT5"
      }
    },
    {
      "cell_type": "code",
      "source": [
        "# sum()関数 : 足し算\n",
        "numbers = [1, 2, 3, 4, 5, 6, 7, 8, 9, 10]"
      ],
      "metadata": {
        "id": "UIE-1_2YRZ5j"
      },
      "execution_count": 2,
      "outputs": []
    },
    {
      "cell_type": "code",
      "source": [
        "# for文\n",
        "new_number = 0\n",
        "for number in numbers:\n",
        "  new_number = number + new_number\n",
        "new_number"
      ],
      "metadata": {
        "colab": {
          "base_uri": "https://localhost:8080/"
        },
        "id": "6Xsdh0uNRszq",
        "outputId": "6e32b0b8-5484-4c4b-e844-b3ee93dd00b0"
      },
      "execution_count": 4,
      "outputs": [
        {
          "output_type": "execute_result",
          "data": {
            "text/plain": [
              "55"
            ]
          },
          "metadata": {},
          "execution_count": 4
        }
      ]
    },
    {
      "cell_type": "code",
      "source": [
        "# sum()関数\n",
        "sum(numbers)"
      ],
      "metadata": {
        "colab": {
          "base_uri": "https://localhost:8080/"
        },
        "id": "q-RN87ceSFkG",
        "outputId": "eb608c01-7372-4f2c-e6cc-3f37f8a4b26d"
      },
      "execution_count": 5,
      "outputs": [
        {
          "output_type": "execute_result",
          "data": {
            "text/plain": [
              "55"
            ]
          },
          "metadata": {},
          "execution_count": 5
        }
      ]
    },
    {
      "cell_type": "markdown",
      "source": [
        "## 関数を自作する"
      ],
      "metadata": {
        "id": "42p3FV5cTfTa"
      }
    },
    {
      "cell_type": "code",
      "source": [
        "# 引数（入力）のない関数\n",
        "print('「私の名前は田中太郎です。」')"
      ],
      "metadata": {
        "colab": {
          "base_uri": "https://localhost:8080/"
        },
        "id": "4bo0JKobTkfE",
        "outputId": "0cc0b66d-9f9f-452a-db54-49343fa06a93"
      },
      "execution_count": 6,
      "outputs": [
        {
          "output_type": "stream",
          "name": "stdout",
          "text": [
            "「私の名前は田中太郎です。」\n"
          ]
        }
      ]
    },
    {
      "cell_type": "code",
      "source": [
        "# 関数化\n",
        "def introduce():\n",
        "  print('「私の名前は田中太郎です。」')\n",
        "introduce()"
      ],
      "metadata": {
        "colab": {
          "base_uri": "https://localhost:8080/"
        },
        "id": "o26J4Ew4TvAV",
        "outputId": "3d70393b-66e5-4432-bcc8-9bdd6113a930"
      },
      "execution_count": 7,
      "outputs": [
        {
          "output_type": "stream",
          "name": "stdout",
          "text": [
            "「私の名前は田中太郎です。」\n"
          ]
        }
      ]
    },
    {
      "cell_type": "code",
      "source": [
        "# 引数のある関数\n",
        "def introduce(name):\n",
        "  print('「私の名前は' + name + 'です。」')\n",
        "introduce('田中太郎')"
      ],
      "metadata": {
        "colab": {
          "base_uri": "https://localhost:8080/"
        },
        "id": "eDcO8jxNT7Ud",
        "outputId": "0f6f2c59-420a-4246-921f-96122c2b2ba9"
      },
      "execution_count": 8,
      "outputs": [
        {
          "output_type": "stream",
          "name": "stdout",
          "text": [
            "「私の名前は田中太郎です。」\n"
          ]
        }
      ]
    },
    {
      "cell_type": "markdown",
      "source": [
        "## 返り値のある関数"
      ],
      "metadata": {
        "id": "VDnkBuoCULOf"
      }
    },
    {
      "cell_type": "code",
      "source": [
        "def sum_2(num1, num2):\n",
        "  print(num1 + num2)\n",
        "a = sum_2(1, 2)"
      ],
      "metadata": {
        "colab": {
          "base_uri": "https://localhost:8080/"
        },
        "id": "WSkNEMV-UVBI",
        "outputId": "425a7fea-e041-457a-f00d-9ba294c0f5e9"
      },
      "execution_count": 10,
      "outputs": [
        {
          "output_type": "stream",
          "name": "stdout",
          "text": [
            "3\n"
          ]
        }
      ]
    },
    {
      "cell_type": "code",
      "source": [
        "a"
      ],
      "metadata": {
        "id": "eNMU_i2XUcBj"
      },
      "execution_count": 11,
      "outputs": []
    },
    {
      "cell_type": "code",
      "source": [
        "# 返り値のある関数\n",
        "def sum_2(num1, num2):\n",
        "  return num1 + num2 # 返り値の設定\n",
        "sum_2(1, 2)"
      ],
      "metadata": {
        "colab": {
          "base_uri": "https://localhost:8080/"
        },
        "id": "64CywFuDUi2x",
        "outputId": "560f890a-424f-4608-d2e0-190531f5dc50"
      },
      "execution_count": 17,
      "outputs": [
        {
          "output_type": "execute_result",
          "data": {
            "text/plain": [
              "3"
            ]
          },
          "metadata": {},
          "execution_count": 17
        }
      ]
    },
    {
      "cell_type": "code",
      "source": [
        "a = sum_2(1, 2)"
      ],
      "metadata": {
        "id": "4l5amX4mUs0G"
      },
      "execution_count": 18,
      "outputs": []
    },
    {
      "cell_type": "code",
      "source": [
        "a"
      ],
      "metadata": {
        "colab": {
          "base_uri": "https://localhost:8080/"
        },
        "id": "TAKwbtWrU0P2",
        "outputId": "aac4d48e-00a2-46c9-ef90-5c78c9182d0c"
      },
      "execution_count": 19,
      "outputs": [
        {
          "output_type": "execute_result",
          "data": {
            "text/plain": [
              "3"
            ]
          },
          "metadata": {},
          "execution_count": 19
        }
      ]
    },
    {
      "cell_type": "code",
      "source": [],
      "metadata": {
        "id": "1tlOQQBjU-CT"
      },
      "execution_count": null,
      "outputs": []
    }
  ]
}